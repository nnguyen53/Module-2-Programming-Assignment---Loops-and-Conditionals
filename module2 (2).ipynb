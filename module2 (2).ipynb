{
 "cells": [
  {
   "cell_type": "code",
   "execution_count": 2,
   "id": "f5aa9670-f033-4b9e-b0b1-06072cb4fe4d",
   "metadata": {},
   "outputs": [
    {
     "name": "stdin",
     "output_type": "stream",
     "text": [
      "Please enter a number between 0 and 10:  5\n"
     ]
    },
    {
     "name": "stdout",
     "output_type": "stream",
     "text": [
      "just right\n"
     ]
    }
   ],
   "source": [
    "# 4.1 Guessing game\n",
    "\n",
    "secret = 5\n",
    "guess = int(input(\"Please enter a number between 0 and 10: \"))\n",
    "\n",
    "if guess < 0 or guess > 10:\n",
    "    print(\"invalid!!!\")\n",
    "else:\n",
    "    if guess == secret:\n",
    "        print(\"just right\")\n",
    "    elif guess < secret:\n",
    "        print(\"too low\")\n",
    "    else:\n",
    "        print(\"too high\")"
   ]
  },
  {
   "cell_type": "code",
   "execution_count": 1,
   "id": "0e7b19f5-4525-4177-8eae-5aba93777dd2",
   "metadata": {},
   "outputs": [
    {
     "name": "stdin",
     "output_type": "stream",
     "text": [
      "Please enter 'true' or 'false' for small  false\n",
      "Please enter 'true' or 'false' for green  true\n"
     ]
    },
    {
     "name": "stdout",
     "output_type": "stream",
     "text": [
      "watermelon\n"
     ]
    }
   ],
   "source": [
    "#4.2\n",
    "small = input(\"Please enter 'true' or 'false' for small \")\n",
    "green = input(\"Please enter 'true' or 'false' for green \")\n",
    "\n",
    "small = small == \"true\"\n",
    "green = green == \"true\"\n",
    "\n",
    "if small and green:\n",
    "    print(\"pea\")\n",
    "elif small and not green:\n",
    "    print(\"cherry\")\n",
    "elif not small and green:\n",
    "    print(\"watermelon\")\n",
    "else:\n",
    "    print(\"pumpkin\")"
   ]
  },
  {
   "cell_type": "code",
   "execution_count": 20,
   "id": "aac0a6f0-775a-4d44-a861-389c6c36ecb3",
   "metadata": {},
   "outputs": [
    {
     "name": "stdout",
     "output_type": "stream",
     "text": [
      "3\n",
      "2\n",
      "1\n",
      "0\n"
     ]
    },
    {
     "data": {
      "text/plain": [
       "[3, 2, 1, 0]"
      ]
     },
     "execution_count": 20,
     "metadata": {},
     "output_type": "execute_result"
    }
   ],
   "source": [
    "#6.1\n",
    "for x in range(3, -1, -1):\n",
    "    print(x)\n",
    "\n",
    "list(range(3, -1, -1))"
   ]
  },
  {
   "cell_type": "code",
   "execution_count": 6,
   "id": "d8b46dbd-9b32-4e10-bb5b-5133c22c3640",
   "metadata": {},
   "outputs": [
    {
     "name": "stdout",
     "output_type": "stream",
     "text": [
      "too low\n",
      "too low\n",
      "too low\n",
      "too low\n",
      "too low\n",
      "too low\n",
      "found it!\n"
     ]
    }
   ],
   "source": [
    "#6.2\n",
    "number = 1\n",
    "guess_me = 7\n",
    "\n",
    "while True:\n",
    "    if number < guess_me:\n",
    "        print(\"too low\")\n",
    "\n",
    "    elif number > guess_me:\n",
    "        print(\"oops\")\n",
    "        break\n",
    "    else:\n",
    "        print(\"found it!\")\n",
    "        break\n",
    "    \n",
    "    number +=1\n"
   ]
  },
  {
   "cell_type": "code",
   "execution_count": 7,
   "id": "9cff8a34-91e0-4e3f-8751-0853765b539a",
   "metadata": {},
   "outputs": [
    {
     "name": "stdout",
     "output_type": "stream",
     "text": [
      "too low\n",
      "too low\n",
      "too low\n",
      "too low\n",
      "too low\n",
      "found it\n"
     ]
    }
   ],
   "source": [
    "#6.3\n",
    "guess_me = 5\n",
    "for number in range(10):\n",
    "    if number < guess_me:\n",
    "        print(\"too low\")\n",
    "    elif number == guess_me:\n",
    "        print(\"found it\")\n",
    "        break\n",
    "    else:\n",
    "        print(\"oops\")\n",
    "        break"
   ]
  }
 ],
 "metadata": {
  "kernelspec": {
   "display_name": "Python 3 (ipykernel)",
   "language": "python",
   "name": "python3"
  },
  "language_info": {
   "codemirror_mode": {
    "name": "ipython",
    "version": 3
   },
   "file_extension": ".py",
   "mimetype": "text/x-python",
   "name": "python",
   "nbconvert_exporter": "python",
   "pygments_lexer": "ipython3",
   "version": "3.13.5"
  }
 },
 "nbformat": 4,
 "nbformat_minor": 5
}
